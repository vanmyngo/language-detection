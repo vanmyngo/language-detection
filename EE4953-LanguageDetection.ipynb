{
 "cells": [
  {
   "cell_type": "code",
   "execution_count": null,
   "id": "1090c9c3-b43d-4aa1-a3b1-e6fdba3cd539",
   "metadata": {
    "tags": []
   },
   "outputs": [],
   "source": [
    "# install cmd if environment is new\n",
    "# !pip install SpeechRecognition\n",
    "# !pip install googletrans==4.0.0=rc1\n",
    "\n",
    "# import libraries\n",
    "import speech_recognition as sr\n",
    "from googletrans import Translator\n",
    "\n",
    "def s2t_multilang(languages):\n",
    "    '''\n",
    "    Convert audio to text while guessing which language to correctly use.\n",
    "    '''\n",
    "\n",
    "    with sr.Microphone() as source:\n",
    "        r = sr.Recognizer()\n",
    "        r.adjust_for_ambient_noise(source)\n",
    "        \n",
    "        # read audio sample from the default microphone\n",
    "        print(\"Say something, I'm listening...\")\n",
    "        audio = r.listen(source)\n",
    "       \n",
    "        # convert speech to text\n",
    "        print(\"Give me a minute, busy converting speech to text...\")\n",
    "        lang_conf = {}\n",
    "        for l in languages:\n",
    "            # convert to text for languages of interests\n",
    "            #print(\"I'm trying {}...\".format(l))\n",
    "            try:\n",
    "                # convert speech to text using Google Speech Recognition API\n",
    "                transcript = r.recognize_google(audio, language=l, show_all=True)\n",
    "                # assign confidence level to corresponding languages\n",
    "                lang_conf[l] = transcript['alternative'][0]\n",
    "            except:\n",
    "                # could not convert speech to text for specific language\n",
    "                pass\n",
    "           \n",
    "        # sorted dict by confidence level\n",
    "        lang_conf = dict(sorted(lang_conf.items(), key=lambda x: x[1]['confidence'], reverse=True))\n",
    "        \n",
    "        return lang_conf\n",
    "        \n",
    "# english, korean, vietnamese, japanese, spanish, chinese(mandarin)\n",
    "languages = ['en-US', 'ko-KR', 'vi-VN', 'ja-JP', 'es-MX', 'zh']\n",
    "lang_conf = s2t_multilang(languages)\n",
    "\n",
    "# print out language with highest confidence level\n",
    "lang = list(lang_conf.keys())[0]\n",
    "trans = list(lang_conf.values())[0]['transcript']\n",
    "\n",
    "# use translate to print out result in spoken language\n",
    "translator = Translator()\n",
    "print(\"\\nSwitching to {}...\".format(lang))\n",
    "\n",
    "# NOTE: language codes used by the 2 libraries are different\n",
    "# supported languages for SpeechRecognition: https://cloud.google.com/speech-to-text/docs/speech-to-text-supported-languages\n",
    "# supported languages for googletrans: https://en.wikipedia.org/wiki/List_of_ISO_639-1_codes\n",
    "print(translator.translate(\"You said '{}' in {}.\".format(trans, lang), src='en', dest=lang[:2]).text)\n",
    "print(\"You said '{}' but in {}.\".format(translator.translate(trans, src=lang[:2], dest='en').text, lang))"
   ]
  }
 ],
 "metadata": {
  "kernelspec": {
   "display_name": "nlp",
   "language": "python",
   "name": "nlp"
  },
  "language_info": {
   "codemirror_mode": {
    "name": "ipython",
    "version": 3
   },
   "file_extension": ".py",
   "mimetype": "text/x-python",
   "name": "python",
   "nbconvert_exporter": "python",
   "pygments_lexer": "ipython3",
   "version": "3.10.0"
  }
 },
 "nbformat": 4,
 "nbformat_minor": 5
}
